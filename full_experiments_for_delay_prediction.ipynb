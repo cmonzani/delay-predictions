{
 "cells": [
  {
   "cell_type": "code",
   "execution_count": 52,
   "metadata": {},
   "outputs": [],
   "source": [
    "from time_lstm import T1TimeLSTM, T2TimeLSTM\n",
    "from time2vec import T1Time2VecLSTM, T2Time2VecLSTM\n",
    "from dataset_delay_predictions import Dataset_Delay_Prediction, Dataset_Delay_Prediction_from_list, DatasetDelayPredictionStackOverflow\n",
    "from time_dependant_representation import TimeDepMasking, TimeDepJointEmbedding\n",
    "import numpy as np\n",
    "from tensorflow.keras import Sequential\n",
    "from tensorflow.keras.layers import Dense, Dropout, Masking, Layer, LSTM\n",
    "import os\n",
    "import tensorflow as tf\n",
    "import pickle\n",
    "from matplotlib import pyplot as plt"
   ]
  },
  {
   "cell_type": "code",
   "execution_count": 2,
   "metadata": {},
   "outputs": [],
   "source": [
    "#names of the two datasets\n",
    "dataset_names = [\n",
    "    'stack-overflow-dataset',\n",
    "    '2019-10_11_12-dataset_delay_prediction'\n",
    "]"
   ]
  },
  {
   "cell_type": "code",
   "execution_count": 3,
   "metadata": {},
   "outputs": [],
   "source": [
    "dataset_name = dataset_names[0] #choose the experiment"
   ]
  },
  {
   "cell_type": "code",
   "execution_count": 4,
   "metadata": {},
   "outputs": [
    {
     "name": "stdout",
     "output_type": "stream",
     "text": [
      "Reading pickle file...\n"
     ]
    }
   ],
   "source": [
    "# load the dataset\n",
    "pickle_filename = dataset_name.replace('/', '-')\n",
    "if os.path.exists(pickle_filename):\n",
    "    print('Reading pickle file...')\n",
    "    dataset = pickle.load(open(pickle_filename, 'rb'))"
   ]
  },
  {
   "cell_type": "code",
   "execution_count": 5,
   "metadata": {},
   "outputs": [
    {
     "name": "stdout",
     "output_type": "stream",
     "text": [
      "5306\n",
      "(5306, 1)\n"
     ]
    }
   ],
   "source": [
    "training_set_length = dataset.training_set_length\n",
    "print(training_set_length)\n",
    "X_train = dataset.full_features_log_dt[:training_set_length]\n",
    "seqlen = dataset.full_seqlen[:training_set_length]\n",
    "y_train = np.array(dataset.full_values[:training_set_length])\n",
    "print(y_train.shape)"
   ]
  },
  {
   "cell_type": "code",
   "execution_count": 6,
   "metadata": {},
   "outputs": [
    {
     "name": "stdout",
     "output_type": "stream",
     "text": [
      "(1327, 1)\n"
     ]
    }
   ],
   "source": [
    "test_set_length = len(dataset.full_features_log_dt) - training_set_length\n",
    "X_test = dataset.full_features_log_dt[training_set_length:]\n",
    "seqlen_test = dataset.full_seqlen[training_set_length:]\n",
    "y_test = np.array(dataset.full_values[training_set_length:])\n",
    "print(y_test.shape)"
   ]
  },
  {
   "cell_type": "code",
   "execution_count": 7,
   "metadata": {},
   "outputs": [
    {
     "data": {
      "image/png": "[encoded data removed]",
      "text/plain": [
       "<Figure size 432x288 with 1 Axes>"
      ]
     },
     "metadata": {
      "needs_background": "light"
     },
     "output_type": "display_data"
    }
   ],
   "source": [
    "#distribution of target values in train set\n",
    "plt.hist([y[0] for y in y_train], bins=40)\n",
    "plt.show()"
   ]
  },
  {
   "cell_type": "code",
   "execution_count": 8,
   "metadata": {},
   "outputs": [
    {
     "data": {
      "image/png": "[encoded data removed]",
      "text/plain": [
       "<Figure size 432x288 with 1 Axes>"
      ]
     },
     "metadata": {
      "needs_background": "light"
     },
     "output_type": "display_data"
    }
   ],
   "source": [
    "# distribution of target values in test set\n",
    "plt.hist([y[0] for y in y_test], bins=40)\n",
    "plt.show()"
   ]
  },
  {
   "cell_type": "code",
   "execution_count": 9,
   "metadata": {},
   "outputs": [],
   "source": [
    "def Mean_Squarred_Error(np_true_y, np_pred_y):\n",
    "    return sum([(np_true_y[i][0] - np_pred_y[i][0])**2 for i in range(len(np_true_y))])/len(np_true_y)"
   ]
  },
  {
   "cell_type": "code",
   "execution_count": 10,
   "metadata": {},
   "outputs": [
    {
     "name": "stdout",
     "output_type": "stream",
     "text": [
      "(5306, 735, 24)\n"
     ]
    }
   ],
   "source": [
    "padding_value = 0.123456789\n",
    "padded_inputs = tf.keras.preprocessing.sequence.pad_sequences(X_train,\n",
    "                                                              padding='post',\n",
    "                                                              value=padding_value,\n",
    "                                                              dtype='float32')\n",
    "print(padded_inputs.shape)"
   ]
  },
  {
   "cell_type": "code",
   "execution_count": 17,
   "metadata": {},
   "outputs": [],
   "source": [
    "lstm_units = 50\n",
    "activation_fn = 'linear'\n",
    "\n",
    "number_of_epochs = 1\n",
    "MSE = {}"
   ]
  },
  {
   "cell_type": "code",
   "execution_count": 12,
   "metadata": {},
   "outputs": [],
   "source": [
    "#LSTMUni\n",
    "method = 'LSTMUni'"
   ]
  },
  {
   "cell_type": "code",
   "execution_count": 13,
   "metadata": {},
   "outputs": [],
   "source": [
    "X_train_uni = [[[feat[-2]] for feat in x] for x in X_train]\n",
    "padded_inputs_uni = tf.keras.preprocessing.sequence.pad_sequences(X_train_uni,\n",
    "                                                              padding='post',\n",
    "                                                              value=padding_value,\n",
    "                                                              dtype='float32')"
   ]
  },
  {
   "cell_type": "code",
   "execution_count": 14,
   "metadata": {},
   "outputs": [
    {
     "name": "stdout",
     "output_type": "stream",
     "text": [
      "size of input tensor: \n",
      "(5306, 735, 1)\n",
      "WARNING:tensorflow:From /Users/charlesmonzani/anaconda3/envs/tf-2.0/lib/python3.7/site-packages/tensorflow_core/python/keras/backend.py:3985: where (from tensorflow.python.ops.array_ops) is deprecated and will be removed in a future version.\n",
      "Instructions for updating:\n",
      "Use tf.where in 2.0, which has the same broadcast rule as np.where\n",
      "Train on 5306 samples\n",
      "WARNING:tensorflow:Entity <function Function._initialize_uninitialized_variables.<locals>.initialize_variables at 0x18317bc80> could not be transformed and will be executed as-is. Please report this to the AutoGraph team. When filing the bug, set the verbosity to 10 (on Linux, `export AUTOGRAPH_VERBOSITY=10`) and attach the full output. Cause: module 'gast' has no attribute 'Num'\n",
      "WARNING: Entity <function Function._initialize_uninitialized_variables.<locals>.initialize_variables at 0x18317bc80> could not be transformed and will be executed as-is. Please report this to the AutoGraph team. When filing the bug, set the verbosity to 10 (on Linux, `export AUTOGRAPH_VERBOSITY=10`) and attach the full output. Cause: module 'gast' has no attribute 'Num'\n",
      "5306/5306 [==============================] - 84s 16ms/sample - loss: 0.0074\n"
     ]
    },
    {
     "data": {
      "text/plain": [
       "<tensorflow.python.keras.callbacks.History at 0x1831c46d8>"
      ]
     },
     "execution_count": 14,
     "metadata": {},
     "output_type": "execute_result"
    }
   ],
   "source": [
    "print('size of input tensor: ',)\n",
    "print(padded_inputs_uni.shape)\n",
    "regressorLSTMUni = Sequential()\n",
    "regressorLSTMUni.add(Masking(mask_value=padding_value))\n",
    "regressorLSTMUni.add(LSTM(units=lstm_units))\n",
    "regressorLSTMUni.add(Dense(units=y_train.shape[1], activation=activation_fn))\n",
    "regressorLSTMUni.compile(optimizer='adam', loss='mean_squared_error')\n",
    "regressorLSTMUni.fit(padded_inputs_uni, y_train, batch_size=50, epochs=number_of_epochs, verbose=1)"
   ]
  },
  {
   "cell_type": "code",
   "execution_count": 15,
   "metadata": {},
   "outputs": [],
   "source": [
    "X_test_uni = []\n",
    "number_of_event = len(X_train[0][0])\n",
    "for idx in range(test_set_length):\n",
    "    seq = X_test[idx]\n",
    "    ts_list = [[a[-2]] for a in seq]\n",
    "    X_test_uni.append(ts_list)\n",
    "X_test_uni = [[[seq[-2]] for seq in x] for x in X_test]\n",
    "padding_value = 0.123456789\n",
    "padded_inputs_test_uni = tf.keras.preprocessing.sequence.pad_sequences(X_test_uni,\n",
    "                                                              padding='post',\n",
    "                                                              value=padding_value,\n",
    "                                                              dtype='float32')\n",
    "predLSTMUni = regressorLSTMUni.predict(padded_inputs_test_uni)"
   ]
  },
  {
   "cell_type": "code",
   "execution_count": 19,
   "metadata": {},
   "outputs": [
    {
     "name": "stdout",
     "output_type": "stream",
     "text": [
      "{'LSTMUni': 0.004811876482452877}\n"
     ]
    }
   ],
   "source": [
    "MSE[method] = Mean_Squarred_Error(predLSTMUni,y_test)\n",
    "print(MSE)"
   ]
  },
  {
   "cell_type": "code",
   "execution_count": 22,
   "metadata": {},
   "outputs": [
    {
     "data": {
      "image/png": "[encoded data removed]",
      "text/plain": [
       "<Figure size 432x288 with 1 Axes>"
      ]
     },
     "metadata": {
      "needs_background": "light"
     },
     "output_type": "display_data"
    }
   ],
   "source": [
    "outputs = [pred_[0] for pred_ in predLSTMUni]\n",
    "plt.hist(outputs, bins=100)\n",
    "plt.show()"
   ]
  },
  {
   "cell_type": "code",
   "execution_count": 23,
   "metadata": {},
   "outputs": [],
   "source": [
    "## LSTM Multi"
   ]
  },
  {
   "cell_type": "code",
   "execution_count": 24,
   "metadata": {},
   "outputs": [],
   "source": [
    "method = 'LSTMMulti'"
   ]
  },
  {
   "cell_type": "code",
   "execution_count": 25,
   "metadata": {},
   "outputs": [
    {
     "name": "stdout",
     "output_type": "stream",
     "text": [
      "size of input tensor: \n",
      "(5306, 735, 24)\n",
      "Train on 5306 samples\n",
      "WARNING:tensorflow:Entity <function Function._initialize_uninitialized_variables.<locals>.initialize_variables at 0x18bb64b70> could not be transformed and will be executed as-is. Please report this to the AutoGraph team. When filing the bug, set the verbosity to 10 (on Linux, `export AUTOGRAPH_VERBOSITY=10`) and attach the full output. Cause: module 'gast' has no attribute 'Num'\n",
      "WARNING: Entity <function Function._initialize_uninitialized_variables.<locals>.initialize_variables at 0x18bb64b70> could not be transformed and will be executed as-is. Please report this to the AutoGraph team. When filing the bug, set the verbosity to 10 (on Linux, `export AUTOGRAPH_VERBOSITY=10`) and attach the full output. Cause: module 'gast' has no attribute 'Num'\n",
      "5306/5306 [==============================] - 86s 16ms/sample - loss: 0.0088\n"
     ]
    },
    {
     "data": {
      "text/plain": [
       "<tensorflow.python.keras.callbacks.History at 0x18bb98048>"
      ]
     },
     "execution_count": 25,
     "metadata": {},
     "output_type": "execute_result"
    }
   ],
   "source": [
    "print('size of input tensor: ',)\n",
    "print(padded_inputs.shape)\n",
    "regressorLSTMMulti = Sequential()\n",
    "regressorLSTMMulti.add(Masking(mask_value=padding_value))\n",
    "regressorLSTMMulti.add(LSTM(units=lstm_units))\n",
    "regressorLSTMMulti.add(Dense(units=y_train.shape[1], activation=activation_fn))\n",
    "\n",
    "\n",
    "regressorLSTMMulti.compile(optimizer='adam', loss='mean_squared_error')\n",
    "regressorLSTMMulti.fit(padded_inputs, y_train, batch_size=50, epochs=number_of_epochs, verbose=1)"
   ]
  },
  {
   "cell_type": "code",
   "execution_count": 26,
   "metadata": {},
   "outputs": [],
   "source": [
    "padded_inputs_test = tf.keras.preprocessing.sequence.pad_sequences(X_test,\n",
    "                                                              padding='post',\n",
    "                                                              value=padding_value,\n",
    "                                                              dtype='float32')\n",
    "predLSTMMulti = regressorLSTMMulti.predict(padded_inputs_test)"
   ]
  },
  {
   "cell_type": "code",
   "execution_count": 27,
   "metadata": {},
   "outputs": [
    {
     "name": "stdout",
     "output_type": "stream",
     "text": [
      "{'LSTMUni': 0.004811876482452877, 'LSTMMulti': 0.005241006046854248}\n"
     ]
    }
   ],
   "source": [
    "MSE[method] = Mean_Squarred_Error(predLSTMMulti, y_test)\n",
    "print(MSE)"
   ]
  },
  {
   "cell_type": "code",
   "execution_count": 28,
   "metadata": {},
   "outputs": [
    {
     "data": {
      "image/png": "[encoded data removed]",
      "text/plain": [
       "<Figure size 432x288 with 1 Axes>"
      ]
     },
     "metadata": {
      "needs_background": "light"
     },
     "output_type": "display_data"
    }
   ],
   "source": [
    "outputs = [pred_[0] for pred_ in predLSTMMulti]\n",
    "plt.hist(outputs, bins=100)\n",
    "plt.show()"
   ]
  },
  {
   "cell_type": "code",
   "execution_count": 29,
   "metadata": {},
   "outputs": [],
   "source": [
    "#T1TimeLSTM\n",
    "method = 'T1TimeLSTM'"
   ]
  },
  {
   "cell_type": "code",
   "execution_count": 30,
   "metadata": {},
   "outputs": [
    {
     "name": "stdout",
     "output_type": "stream",
     "text": [
      "(5306, 735, 24)\n",
      "WARNING:tensorflow:Entity <bound method T1TimeLSTM.call of <time_lstm.T1TimeLSTM object at 0x1908dd860>> could not be transformed and will be executed as-is. Please report this to the AutoGraph team. When filing the bug, set the verbosity to 10 (on Linux, `export AUTOGRAPH_VERBOSITY=10`) and attach the full output. Cause: Bad argument number for Name: 3, expecting 4\n",
      "WARNING: Entity <bound method T1TimeLSTM.call of <time_lstm.T1TimeLSTM object at 0x1908dd860>> could not be transformed and will be executed as-is. Please report this to the AutoGraph team. When filing the bug, set the verbosity to 10 (on Linux, `export AUTOGRAPH_VERBOSITY=10`) and attach the full output. Cause: Bad argument number for Name: 3, expecting 4\n",
      "Train on 5306 samples\n",
      "WARNING:tensorflow:Entity <function Function._initialize_uninitialized_variables.<locals>.initialize_variables at 0x190d45378> could not be transformed and will be executed as-is. Please report this to the AutoGraph team. When filing the bug, set the verbosity to 10 (on Linux, `export AUTOGRAPH_VERBOSITY=10`) and attach the full output. Cause: module 'gast' has no attribute 'Num'\n",
      "WARNING: Entity <function Function._initialize_uninitialized_variables.<locals>.initialize_variables at 0x190d45378> could not be transformed and will be executed as-is. Please report this to the AutoGraph team. When filing the bug, set the verbosity to 10 (on Linux, `export AUTOGRAPH_VERBOSITY=10`) and attach the full output. Cause: module 'gast' has no attribute 'Num'\n",
      "5306/5306 [==============================] - 118s 22ms/sample - loss: 0.0076\n"
     ]
    }
   ],
   "source": [
    "print(padded_inputs.shape)\n",
    "regressorT1TimeLSTM = Sequential()\n",
    "regressorT1TimeLSTM.add(Masking(mask_value=padding_value))\n",
    "regressorT1TimeLSTM.add(T1TimeLSTM(units=lstm_units))\n",
    "regressorT1TimeLSTM.add(Dense(units=y_train.shape[1], activation=activation_fn))\n",
    "\n",
    "regressorT1TimeLSTM.compile(optimizer='adam', loss='mean_squared_error')\n",
    "history = regressorT1TimeLSTM.fit(padded_inputs, y_train, batch_size=50, epochs=number_of_epochs, verbose=1)"
   ]
  },
  {
   "cell_type": "code",
   "execution_count": 32,
   "metadata": {},
   "outputs": [],
   "source": [
    "predT1TimeLSTM = regressorT1TimeLSTM.predict(padded_inputs_test)"
   ]
  },
  {
   "cell_type": "code",
   "execution_count": 33,
   "metadata": {},
   "outputs": [],
   "source": [
    "MSE[method] = Mean_Squarred_Error(predT1TimeLSTM, y_test)"
   ]
  },
  {
   "cell_type": "code",
   "execution_count": 34,
   "metadata": {},
   "outputs": [
    {
     "data": {
      "image/png": "[encoded data removed]",
      "text/plain": [
       "<Figure size 432x288 with 1 Axes>"
      ]
     },
     "metadata": {
      "needs_background": "light"
     },
     "output_type": "display_data"
    }
   ],
   "source": [
    "outputs = [pred_[0] for pred_ in predT1TimeLSTM]\n",
    "plt.hist(outputs, bins=100)\n",
    "plt.show()"
   ]
  },
  {
   "cell_type": "code",
   "execution_count": 31,
   "metadata": {},
   "outputs": [],
   "source": [
    "## T2TimeLSTM"
   ]
  },
  {
   "cell_type": "code",
   "execution_count": 35,
   "metadata": {},
   "outputs": [
    {
     "name": "stdout",
     "output_type": "stream",
     "text": [
      "(5306, 735, 24)\n",
      "WARNING:tensorflow:Entity <bound method T2TimeLSTM.call of <time_lstm.T2TimeLSTM object at 0x18f50b6d8>> could not be transformed and will be executed as-is. Please report this to the AutoGraph team. When filing the bug, set the verbosity to 10 (on Linux, `export AUTOGRAPH_VERBOSITY=10`) and attach the full output. Cause: Bad argument number for Name: 3, expecting 4\n",
      "WARNING: Entity <bound method T2TimeLSTM.call of <time_lstm.T2TimeLSTM object at 0x18f50b6d8>> could not be transformed and will be executed as-is. Please report this to the AutoGraph team. When filing the bug, set the verbosity to 10 (on Linux, `export AUTOGRAPH_VERBOSITY=10`) and attach the full output. Cause: Bad argument number for Name: 3, expecting 4\n",
      "Train on 5306 samples\n",
      "WARNING:tensorflow:Entity <function Function._initialize_uninitialized_variables.<locals>.initialize_variables at 0x1906acc80> could not be transformed and will be executed as-is. Please report this to the AutoGraph team. When filing the bug, set the verbosity to 10 (on Linux, `export AUTOGRAPH_VERBOSITY=10`) and attach the full output. Cause: module 'gast' has no attribute 'Num'\n",
      "WARNING: Entity <function Function._initialize_uninitialized_variables.<locals>.initialize_variables at 0x1906acc80> could not be transformed and will be executed as-is. Please report this to the AutoGraph team. When filing the bug, set the verbosity to 10 (on Linux, `export AUTOGRAPH_VERBOSITY=10`) and attach the full output. Cause: module 'gast' has no attribute 'Num'\n",
      "5306/5306 [==============================] - 150s 28ms/sample - loss: 0.0074\n"
     ]
    }
   ],
   "source": [
    "method = 'T2TimeLSTM'\n",
    "print(padded_inputs.shape)\n",
    "regressorT2TimeLSTM = Sequential()\n",
    "regressorT2TimeLSTM.add(Masking(mask_value=padding_value))\n",
    "regressorT2TimeLSTM.add(T2TimeLSTM(units=lstm_units))\n",
    "regressorT2TimeLSTM.add(Dense(units=y_train.shape[1], activation=activation_fn))\n",
    "\n",
    "regressorT2TimeLSTM.compile(optimizer='adam', loss='mean_squared_error')\n",
    "history = regressorT2TimeLSTM.fit(padded_inputs, y_train, batch_size=50, epochs=number_of_epochs, verbose=1)\n",
    "\n"
   ]
  },
  {
   "cell_type": "code",
   "execution_count": 36,
   "metadata": {},
   "outputs": [],
   "source": [
    "predT2TimeLSTM = regressorT2TimeLSTM.predict(padded_inputs_test)"
   ]
  },
  {
   "cell_type": "code",
   "execution_count": 38,
   "metadata": {},
   "outputs": [
    {
     "name": "stdout",
     "output_type": "stream",
     "text": [
      "{'LSTMUni': 0.004811876482452877, 'LSTMMulti': 0.005241006046854248, 'T1TimeLSTM': 0.00494420919500057, 'T2TimeLSTM': 0.0048864377154392525}\n"
     ]
    }
   ],
   "source": [
    "MSE[method] = Mean_Squarred_Error(predT2TimeLSTM, y_test)\n",
    "print(MSE)"
   ]
  },
  {
   "cell_type": "code",
   "execution_count": 39,
   "metadata": {},
   "outputs": [
    {
     "data": {
      "image/png": "[encoded data removed]",
      "text/plain": [
       "<Figure size 432x288 with 1 Axes>"
      ]
     },
     "metadata": {
      "needs_background": "light"
     },
     "output_type": "display_data"
    }
   ],
   "source": [
    "outputs = [pred_[0] for pred_ in predT2TimeLSTM]\n",
    "plt.hist(outputs, bins=100)\n",
    "plt.show()"
   ]
  },
  {
   "cell_type": "code",
   "execution_count": null,
   "metadata": {},
   "outputs": [],
   "source": [
    "## TimeDepJointEmbedding"
   ]
  },
  {
   "cell_type": "code",
   "execution_count": 40,
   "metadata": {},
   "outputs": [
    {
     "name": "stdout",
     "output_type": "stream",
     "text": [
      "(5306, 735, 24)\n",
      "WARNING:tensorflow:Entity <bound method TimeDepJointEmbedding.call of <time_dependant_representation.TimeDepJointEmbedding object at 0x1901f40b8>> could not be transformed and will be executed as-is. Please report this to the AutoGraph team. When filing the bug, set the verbosity to 10 (on Linux, `export AUTOGRAPH_VERBOSITY=10`) and attach the full output. Cause: Bad argument number for Name: 3, expecting 4\n",
      "WARNING: Entity <bound method TimeDepJointEmbedding.call of <time_dependant_representation.TimeDepJointEmbedding object at 0x1901f40b8>> could not be transformed and will be executed as-is. Please report this to the AutoGraph team. When filing the bug, set the verbosity to 10 (on Linux, `export AUTOGRAPH_VERBOSITY=10`) and attach the full output. Cause: Bad argument number for Name: 3, expecting 4\n",
      "Train on 5306 samples\n",
      "WARNING:tensorflow:Entity <function Function._initialize_uninitialized_variables.<locals>.initialize_variables at 0x198852e18> could not be transformed and will be executed as-is. Please report this to the AutoGraph team. When filing the bug, set the verbosity to 10 (on Linux, `export AUTOGRAPH_VERBOSITY=10`) and attach the full output. Cause: module 'gast' has no attribute 'Num'\n",
      "WARNING: Entity <function Function._initialize_uninitialized_variables.<locals>.initialize_variables at 0x198852e18> could not be transformed and will be executed as-is. Please report this to the AutoGraph team. When filing the bug, set the verbosity to 10 (on Linux, `export AUTOGRAPH_VERBOSITY=10`) and attach the full output. Cause: module 'gast' has no attribute 'Num'\n",
      "5306/5306 [==============================] - 127s 24ms/sample - loss: 0.0076\n"
     ]
    }
   ],
   "source": [
    "method = 'TimeDepJointEmbedding'\n",
    "print(padded_inputs.shape)\n",
    "regressorTimeJoint = Sequential()\n",
    "regressorTimeJoint.add(Masking(mask_value=padding_value))\n",
    "regressorTimeJoint.add(TimeDepJointEmbedding(units=lstm_units))\n",
    "regressorTimeJoint.add(Dense(units=y_train.shape[1], activation=activation_fn))\n",
    "\n",
    "regressorTimeJoint.compile(optimizer='adam', loss='mean_squared_error')\n",
    "history = regressorTimeJoint.fit(padded_inputs, y_train, batch_size=50, epochs=number_of_epochs, verbose=1)"
   ]
  },
  {
   "cell_type": "code",
   "execution_count": 41,
   "metadata": {},
   "outputs": [],
   "source": [
    "predTimeJoint = regressorTimeJoint.predict(padded_inputs_test)\n",
    "\n"
   ]
  },
  {
   "cell_type": "code",
   "execution_count": 44,
   "metadata": {},
   "outputs": [
    {
     "name": "stdout",
     "output_type": "stream",
     "text": [
      "{'LSTMUni': 0.004811876482452877, 'LSTMMulti': 0.005241006046854248, 'T1TimeLSTM': 0.00494420919500057, 'T2TimeLSTM': 0.0048864377154392525, 'TimeDepJointEmbedding': 0.005414031781839821}\n"
     ]
    }
   ],
   "source": [
    "MSE[method] = Mean_Squarred_Error(predTimeJoint, y_test)\n",
    "print(MSE)"
   ]
  },
  {
   "cell_type": "code",
   "execution_count": 45,
   "metadata": {},
   "outputs": [
    {
     "data": {
      "image/png": "[encoded data removed]",
      "text/plain": [
       "<Figure size 432x288 with 1 Axes>"
      ]
     },
     "metadata": {
      "needs_background": "light"
     },
     "output_type": "display_data"
    }
   ],
   "source": [
    "outputs = [pred_[0] for pred_ in predTimeJoint]\n",
    "plt.hist(outputs, bins=100)\n",
    "plt.show()"
   ]
  },
  {
   "cell_type": "code",
   "execution_count": 51,
   "metadata": {},
   "outputs": [
    {
     "name": "stdout",
     "output_type": "stream",
     "text": [
      "{'LSTMUni': 0.004811876482452877, 'LSTMMulti': 0.005241006046854248, 'T1TimeLSTM': 0.00494420919500057, 'T2TimeLSTM': 0.0048864377154392525, 'TimeDepJointEmbedding': 0.005414031781839821, 'naive': 0.005222562369081282, 'Naive': 0.005222562369081282}\n"
     ]
    }
   ],
   "source": [
    "method = 'Naive'\n",
    "mean_y = sum([y_[0] for y_ in y_train])/len(y_train)\n",
    "MSE[method] = sum([(y_[0] - mean_y)**2 for y_ in y_test])/len(y_test)\n",
    "print(MSE)"
   ]
  },
  {
   "cell_type": "code",
   "execution_count": 49,
   "metadata": {},
   "outputs": [
    {
     "data": {
      "text/plain": [
       "array([1, 1, 1, 1, 1, 1, 1, 1, 1, 1])"
      ]
     },
     "execution_count": 49,
     "metadata": {},
     "output_type": "execute_result"
    }
   ],
   "source": [
    "## Time2Vec"
   ]
  },
  {
   "cell_type": "code",
   "execution_count": null,
   "metadata": {},
   "outputs": [],
   "source": [
    "#T1Time2Vec"
   ]
  },
  {
   "cell_type": "code",
   "execution_count": 54,
   "metadata": {},
   "outputs": [
    {
     "name": "stdout",
     "output_type": "stream",
     "text": [
      "(5306, 735, 24)\n",
      "WARNING:tensorflow:Entity <bound method T1Time2VecLSTM.call of <time2vec.T1Time2VecLSTM object at 0x1900e0978>> could not be transformed and will be executed as-is. Please report this to the AutoGraph team. When filing the bug, set the verbosity to 10 (on Linux, `export AUTOGRAPH_VERBOSITY=10`) and attach the full output. Cause: Bad argument number for Name: 3, expecting 4\n",
      "WARNING: Entity <bound method T1Time2VecLSTM.call of <time2vec.T1Time2VecLSTM object at 0x1900e0978>> could not be transformed and will be executed as-is. Please report this to the AutoGraph team. When filing the bug, set the verbosity to 10 (on Linux, `export AUTOGRAPH_VERBOSITY=10`) and attach the full output. Cause: Bad argument number for Name: 3, expecting 4\n",
      "Train on 5306 samples\n",
      "WARNING:tensorflow:Entity <function Function._initialize_uninitialized_variables.<locals>.initialize_variables at 0x19b4dc730> could not be transformed and will be executed as-is. Please report this to the AutoGraph team. When filing the bug, set the verbosity to 10 (on Linux, `export AUTOGRAPH_VERBOSITY=10`) and attach the full output. Cause: module 'gast' has no attribute 'Num'\n",
      "WARNING: Entity <function Function._initialize_uninitialized_variables.<locals>.initialize_variables at 0x19b4dc730> could not be transformed and will be executed as-is. Please report this to the AutoGraph team. When filing the bug, set the verbosity to 10 (on Linux, `export AUTOGRAPH_VERBOSITY=10`) and attach the full output. Cause: module 'gast' has no attribute 'Num'\n",
      "5306/5306 [==============================] - 129s 24ms/sample - loss: 0.0080\n"
     ]
    }
   ],
   "source": [
    "method = 'T1Time2Vec'\n",
    "print(padded_inputs.shape)\n",
    "regressorT1Time2VecLSTM = Sequential()\n",
    "regressorT1Time2VecLSTM.add(Masking(mask_value=padding_value))\n",
    "regressorT1Time2VecLSTM.add(T1Time2VecLSTM(units=lstm_units))\n",
    "regressorT1Time2VecLSTM.add(Dense(units=y_train.shape[1], activation=activation_fn))\n",
    "\n",
    "regressorT1Time2VecLSTM.compile(optimizer='adam', loss='mean_squared_error')\n",
    "history = regressorT1Time2VecLSTM.fit(padded_inputs, y_train, batch_size=50, epochs=number_of_epochs, verbose=1)\n"
   ]
  },
  {
   "cell_type": "code",
   "execution_count": 55,
   "metadata": {},
   "outputs": [],
   "source": [
    "predT1Time2VecLSTM = regressorT1Time2VecLSTM.predict(padded_inputs_test)"
   ]
  },
  {
   "cell_type": "code",
   "execution_count": 56,
   "metadata": {},
   "outputs": [
    {
     "name": "stdout",
     "output_type": "stream",
     "text": [
      "{'LSTMUni': 0.004811876482452877, 'LSTMMulti': 0.005241006046854248, 'T1TimeLSTM': 0.00494420919500057, 'T2TimeLSTM': 0.0048864377154392525, 'TimeDepJointEmbedding': 0.005414031781839821, 'naive': 0.005222562369081282, 'Naive': 0.005222562369081282, 'T1Time2Vec': 0.005064698803219937}\n"
     ]
    }
   ],
   "source": [
    "MSE[method] = Mean_Squarred_Error(predT1Time2VecLSTM, y_test)\n",
    "print(MSE)"
   ]
  },
  {
   "cell_type": "code",
   "execution_count": 57,
   "metadata": {},
   "outputs": [
    {
     "data": {
      "image/png": "[encoded data removed]",
      "text/plain": [
       "<Figure size 432x288 with 1 Axes>"
      ]
     },
     "metadata": {
      "needs_background": "light"
     },
     "output_type": "display_data"
    }
   ],
   "source": [
    "outputs = [pred_[0] for pred_ in predTimeJoint]\n",
    "plt.hist(outputs, bins=100)\n",
    "plt.show()"
   ]
  },
  {
   "cell_type": "code",
   "execution_count": null,
   "metadata": {},
   "outputs": [
    {
     "name": "stdout",
     "output_type": "stream",
     "text": [
      "(5306, 735, 24)\n",
      "WARNING:tensorflow:Entity <bound method T2Time2VecLSTM.call of <time2vec.T2Time2VecLSTM object at 0x19e984dd8>> could not be transformed and will be executed as-is. Please report this to the AutoGraph team. When filing the bug, set the verbosity to 10 (on Linux, `export AUTOGRAPH_VERBOSITY=10`) and attach the full output. Cause: Bad argument number for Name: 3, expecting 4\n",
      "WARNING: Entity <bound method T2Time2VecLSTM.call of <time2vec.T2Time2VecLSTM object at 0x19e984dd8>> could not be transformed and will be executed as-is. Please report this to the AutoGraph team. When filing the bug, set the verbosity to 10 (on Linux, `export AUTOGRAPH_VERBOSITY=10`) and attach the full output. Cause: Bad argument number for Name: 3, expecting 4\n",
      "Train on 5306 samples\n",
      "WARNING:tensorflow:Entity <function Function._initialize_uninitialized_variables.<locals>.initialize_variables at 0x19aee91e0> could not be transformed and will be executed as-is. Please report this to the AutoGraph team. When filing the bug, set the verbosity to 10 (on Linux, `export AUTOGRAPH_VERBOSITY=10`) and attach the full output. Cause: module 'gast' has no attribute 'Num'\n",
      "WARNING: Entity <function Function._initialize_uninitialized_variables.<locals>.initialize_variables at 0x19aee91e0> could not be transformed and will be executed as-is. Please report this to the AutoGraph team. When filing the bug, set the verbosity to 10 (on Linux, `export AUTOGRAPH_VERBOSITY=10`) and attach the full output. Cause: module 'gast' has no attribute 'Num'\n",
      "3100/5306 [================>.............] - ETA: 1:08 - loss: 0.0087"
     ]
    }
   ],
   "source": [
    "method = 'T2Time2Vec'\n",
    "print(padded_inputs.shape)\n",
    "regressorT2Time2VecLSTM = Sequential()\n",
    "regressorT2Time2VecLSTM.add(Masking(mask_value=padding_value))\n",
    "regressorT2Time2VecLSTM.add(T2Time2VecLSTM(units=lstm_units))\n",
    "regressorT2Time2VecLSTM.add(Dense(units=y_train.shape[1], activation=activation_fn))\n",
    "\n",
    "regressorT2Time2VecLSTM.compile(optimizer='adam', loss='mean_squared_error')\n",
    "history = regressorT2Time2VecLSTM.fit(padded_inputs, y_train, batch_size=50, epochs=number_of_epochs, verbose=1)\n",
    "\n"
   ]
  },
  {
   "cell_type": "code",
   "execution_count": null,
   "metadata": {},
   "outputs": [],
   "source": [
    "predT2Time2VecLSTM = regressorT2Time2VecLSTM.predict(padded_inputs_test)"
   ]
  },
  {
   "cell_type": "code",
   "execution_count": null,
   "metadata": {},
   "outputs": [],
   "source": [
    "MSE[method] = Mean_Squarred_Error(predT2Time2VecLSTM, y_test)\n",
    "print(MSE)"
   ]
  },
  {
   "cell_type": "code",
   "execution_count": null,
   "metadata": {},
   "outputs": [],
   "source": [
    "outputs = [pred_[0] for pred_ in predTimeJoint]\n",
    "plt.hist(outputs, bins=100)\n",
    "plt.show()"
   ]
  }
 ],
 "metadata": {
  "kernelspec": {
   "display_name": "tf-2.0",
   "language": "python",
   "name": "tf-2.0"
  },
  "language_info": {
   "codemirror_mode": {
    "name": "ipython",
    "version": 3
   },
   "file_extension": ".py",
   "mimetype": "text/x-python",
   "name": "python",
   "nbconvert_exporter": "python",
   "pygments_lexer": "ipython3",
   "version": "3.7.3"
  }
 },
 "nbformat": 4,
 "nbformat_minor": 4
}
