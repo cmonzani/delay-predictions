{
 "cells": [
  {
   "cell_type": "code",
   "execution_count": 22,
   "metadata": {},
   "outputs": [],
   "source": [
    "from matplotlib import pyplot as plt\n",
    "from dataset_delay_predictions import Dataset_Delay_Prediction, Dataset_Delay_Prediction_from_list\n",
    "from dataset_delay_predictions import DatasetDelayPredictionStackOverflow\n",
    "import pickle\n",
    "from math import exp"
   ]
  },
  {
   "cell_type": "markdown",
   "metadata": {},
   "source": [
    "## Stack Overflow Dataset"
   ]
  },
  {
   "cell_type": "code",
   "execution_count": 2,
   "metadata": {},
   "outputs": [],
   "source": [
    "dataset_name = 'stack-overflow-dataset'\n",
    "\n",
    "#load the dataset\n",
    "pickle_filename = dataset_name.replace('/', '-')\n",
    "dataset = pickle.load(open(pickle_filename, 'rb'))"
   ]
  },
  {
   "cell_type": "code",
   "execution_count": 4,
   "metadata": {},
   "outputs": [
    {
     "name": "stdout",
     "output_type": "stream",
     "text": [
      "number of different_events : 22\n",
      "number of users:  6633\n",
      "average length:  71.42786069651741\n",
      "average_target_value:  0.08500138576037816\n"
     ]
    }
   ],
   "source": [
    "#some statistics about the dataset:\n",
    "number_of_different_events = dataset.number_of_events\n",
    "print('number of different_events :', str(number_of_different_events))\n",
    "number_of_sequences = dataset.number_of_users\n",
    "print('number of users: ', str(number_of_sequences))\n",
    "average_length_of_seq = sum(dataset.full_seqlen)/number_of_sequences\n",
    "print('average length: ', average_length_of_seq)\n",
    "target_values = [value[0] for value in dataset.full_values if value[0] <1]\n",
    "average_target_value = sum(target_values)/number_of_sequences\n",
    "print('average_target_value: ', average_target_value)\n"
   ]
  },
  {
   "cell_type": "code",
   "execution_count": 5,
   "metadata": {},
   "outputs": [
    {
     "data": {
      "image/png": "[encoded data removed]",
      "text/plain": [
       "<Figure size 432x288 with 1 Axes>"
      ]
     },
     "metadata": {
      "needs_background": "light"
     },
     "output_type": "display_data"
    }
   ],
   "source": [
    "plt.hist(target_values, bins=1000)\n",
    "plt.show()"
   ]
  },
  {
   "cell_type": "code",
   "execution_count": 6,
   "metadata": {},
   "outputs": [],
   "source": [
    "target_values_low = [value for value in target_values if value < average_target_value]\n",
    "target_values_high = [value for value in target_values if value >= average_target_value]\n"
   ]
  },
  {
   "cell_type": "code",
   "execution_count": 7,
   "metadata": {},
   "outputs": [
    {
     "data": {
      "image/png": "[encoded data removed]",
      "text/plain": [
       "<Figure size 432x288 with 1 Axes>"
      ]
     },
     "metadata": {
      "needs_background": "light"
     },
     "output_type": "display_data"
    }
   ],
   "source": [
    "plt.hist(target_values_low, bins=50)\n",
    "plt.show()"
   ]
  },
  {
   "cell_type": "code",
   "execution_count": 8,
   "metadata": {},
   "outputs": [
    {
     "name": "stdout",
     "output_type": "stream",
     "text": [
      "0.034982697021608555\n"
     ]
    }
   ],
   "source": [
    "print(sum(target_values_low)/len(target_values_low))"
   ]
  },
  {
   "cell_type": "code",
   "execution_count": 9,
   "metadata": {},
   "outputs": [
    {
     "data": {
      "image/png": "[encoded data removed]",
      "text/plain": [
       "<Figure size 432x288 with 1 Axes>"
      ]
     },
     "metadata": {
      "needs_background": "light"
     },
     "output_type": "display_data"
    }
   ],
   "source": [
    "plt.hist(target_values_high, bins=50)\n",
    "plt.show()"
   ]
  },
  {
   "cell_type": "code",
   "execution_count": 10,
   "metadata": {},
   "outputs": [
    {
     "name": "stdout",
     "output_type": "stream",
     "text": [
      "0.1683859790498587\n"
     ]
    }
   ],
   "source": [
    "print(sum(target_values_high)/len(target_values_high))"
   ]
  },
  {
   "cell_type": "code",
   "execution_count": 11,
   "metadata": {},
   "outputs": [],
   "source": [
    "target_values_test = target_values[:dataset.training_set_length]"
   ]
  },
  {
   "cell_type": "code",
   "execution_count": 12,
   "metadata": {},
   "outputs": [
    {
     "name": "stdout",
     "output_type": "stream",
     "text": [
      "0.00758322750710339\n"
     ]
    }
   ],
   "source": [
    "average_train_value = sum(target_values[dataset.training_set_length:])/len( target_values[dataset.training_set_length:])\n",
    "pred = [average_train_value for _ in range(dataset.training_set_length)]\n",
    "mean_sum_of_squares = sum([(target_values_test[i] - pred[i])**2 for i in range(dataset.training_set_length)])/dataset.training_set_length\n",
    "print(mean_sum_of_squares)"
   ]
  },
  {
   "cell_type": "code",
   "execution_count": 13,
   "metadata": {},
   "outputs": [],
   "source": [
    "dataset_name = '2019-10_11_12-dataset_delay_prediction'\n",
    "\n",
    "#load the dataset\n",
    "pickle_filename = dataset_name.replace('/', '-')\n",
    "dataset = pickle.load(open(pickle_filename, 'rb'))"
   ]
  },
  {
   "cell_type": "code",
   "execution_count": 14,
   "metadata": {},
   "outputs": [
    {
     "name": "stdout",
     "output_type": "stream",
     "text": [
      "number of different_events : 39\n",
      "number of users:  5870\n",
      "average length:  17.359965928449743\n",
      "average_target_value:  0.41061391864065805\n"
     ]
    }
   ],
   "source": [
    "#some statistics about the dataset:\n",
    "number_of_different_events = dataset.number_of_events\n",
    "print('number of different_events :', str(number_of_different_events))\n",
    "number_of_sequences = dataset.number_of_users\n",
    "print('number of users: ', str(number_of_sequences))\n",
    "average_length_of_seq = sum(dataset.full_seqlen)/number_of_sequences\n",
    "print('average length: ', average_length_of_seq)\n",
    "target_values = [val[0] for val in dataset.full_values]\n",
    "print('average_target_value: ', sum(target_values)/number_of_sequences)"
   ]
  },
  {
   "cell_type": "code",
   "execution_count": 15,
   "metadata": {},
   "outputs": [
    {
     "data": {
      "image/png": "[encoded data removed]",
      "text/plain": [
       "<Figure size 432x288 with 1 Axes>"
      ]
     },
     "metadata": {
      "needs_background": "light"
     },
     "output_type": "display_data"
    }
   ],
   "source": [
    "plt.hist(target_values, bins=100)\n",
    "plt.show()"
   ]
  },
  {
   "cell_type": "code",
   "execution_count": 16,
   "metadata": {},
   "outputs": [
    {
     "name": "stdout",
     "output_type": "stream",
     "text": [
      "0.05045743797643716\n"
     ]
    }
   ],
   "source": [
    "training_set_length = int(1/5 * 5870)\n",
    "target_values_test = target_values[:training_set_length]\n",
    "average_train_value = sum(target_values[training_set_length:])/len( target_values[training_set_length:])\n",
    "pred = [average_train_value for _ in range(training_set_length)]\n",
    "mean_sum_of_squares = sum([(target_values_test[i] - pred[i])**2 for i in range(training_set_length)])/training_set_length\n",
    "print(mean_sum_of_squares)"
   ]
  },
  {
   "cell_type": "code",
   "execution_count": 20,
   "metadata": {},
   "outputs": [
    {
     "data": {
      "text/plain": [
       "1350651.0000639954"
      ]
     },
     "execution_count": 20,
     "metadata": {},
     "output_type": "execute_result"
    }
   ],
   "source": [
    "dataset.constant_C"
   ]
  },
  {
   "cell_type": "code",
   "execution_count": 23,
   "metadata": {},
   "outputs": [],
   "source": [
    "target_values_exp = [dataset.constant_C * (exp(t) - 1) for t in target_values]"
   ]
  },
  {
   "cell_type": "code",
   "execution_count": 26,
   "metadata": {},
   "outputs": [
    {
     "data": {
      "image/png": "[encoded data removed]",
      "text/plain": [
       "<Figure size 432x288 with 1 Axes>"
      ]
     },
     "metadata": {
      "needs_background": "light"
     },
     "output_type": "display_data"
    }
   ],
   "source": [
    "plt.hist(target_values_exp, bins=200)\n",
    "plt.show()"
   ]
  },
  {
   "cell_type": "code",
   "execution_count": 27,
   "metadata": {},
   "outputs": [],
   "source": [
    "sequences = dataset.full_features_log_dt"
   ]
  },
  {
   "cell_type": "code",
   "execution_count": 34,
   "metadata": {},
   "outputs": [
    {
     "name": "stdout",
     "output_type": "stream",
     "text": [
      "[0.0, 2.3692278524836256e-08, 3.998071971280496e-08, 3.35467296865793e-06]\n",
      "[0.0, 0.032, 0.054, 4.531]\n"
     ]
    }
   ],
   "source": [
    "s = sequences[0]\n",
    "d = len(s[0])\n",
    "print([e[d-2] for e in s])\n",
    "print([e[d-1] for e in s])\n"
   ]
  },
  {
   "cell_type": "code",
   "execution_count": null,
   "metadata": {},
   "outputs": [],
   "source": []
  }
 ],
 "metadata": {
  "anaconda-cloud": {},
  "kernelspec": {
   "display_name": "Python 3",
   "language": "python",
   "name": "python3"
  },
  "language_info": {
   "codemirror_mode": {
    "name": "ipython",
    "version": 3
   },
   "file_extension": ".py",
   "mimetype": "text/x-python",
   "name": "python",
   "nbconvert_exporter": "python",
   "pygments_lexer": "ipython3",
   "version": "3.7.6"
  }
 },
 "nbformat": 4,
 "nbformat_minor": 4
}
