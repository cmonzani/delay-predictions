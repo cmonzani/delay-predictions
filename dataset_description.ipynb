{
 "cells": [
  {
   "cell_type": "code",
   "execution_count": 40,
   "metadata": {},
   "outputs": [],
   "source": [
    "from matplotlib import pyplot as plt\n",
    "from dataset_delay_predictions import Dataset_Delay_Prediction, Dataset_Delay_Prediction_from_list\n",
    "from dataset_delay_predictions import DatasetDelayPredictionStackOverflow\n",
    "import pickle"
   ]
  },
  {
   "cell_type": "markdown",
   "metadata": {},
   "source": [
    "## Stack Overflow Dataset"
   ]
  },
  {
   "cell_type": "code",
   "execution_count": 85,
   "metadata": {},
   "outputs": [],
   "source": [
    "dataset_name = 'stack-overflow-dataset'\n",
    "\n",
    "#load the dataset\n",
    "pickle_filename = dataset_name.replace('/', '-')\n",
    "dataset = pickle.load(open(pickle_filename, 'rb'))"
   ]
  },
  {
   "cell_type": "code",
   "execution_count": 87,
   "metadata": {},
   "outputs": [
    {
     "name": "stdout",
     "output_type": "stream",
     "text": [
      "number of different_events : 22\n",
      "number of users:  6633\n",
      "average length:  71.42786069651741\n",
      "average_target_value:  0.4973160523393471\n"
     ]
    }
   ],
   "source": [
    "#some statistics about the dataset:\n",
    "number_of_different_events = dataset.number_of_event\n",
    "print('number of different_events :', str(number_of_different_events))\n",
    "number_of_sequences = dataset.number_of_users\n",
    "print('number of users: ', str(number_of_sequences))\n",
    "average_length_of_seq = sum(dataset.full_seqlen)/number_of_sequences\n",
    "print('average length: ', average_length_of_seq)\n",
    "target_values = [value[0] for value in dataset.full_values if value[0] <1]\n",
    "average_target_value = sum(target_values)/number_of_sequences\n",
    "print('average_target_value: ', average_target_value)\n"
   ]
  },
  {
   "cell_type": "code",
   "execution_count": 88,
   "metadata": {},
   "outputs": [
    {
     "data": {
      "image/png": "[encoded data removed]",
      "text/plain": [
       "<Figure size 432x288 with 1 Axes>"
      ]
     },
     "metadata": {
      "needs_background": "light"
     },
     "output_type": "display_data"
    }
   ],
   "source": [
    "plt.hist(target_values, bins=1000)\n",
    "plt.show()"
   ]
  },
  {
   "cell_type": "code",
   "execution_count": 89,
   "metadata": {},
   "outputs": [],
   "source": [
    "target_values_low = [value for value in target_values if value < average_target_value]\n",
    "target_values_high = [value for value in target_values if value >= average_target_value]\n"
   ]
  },
  {
   "cell_type": "code",
   "execution_count": 90,
   "metadata": {},
   "outputs": [
    {
     "data": {
      "image/png": "[encoded data removed]",
      "text/plain": [
       "<Figure size 432x288 with 1 Axes>"
      ]
     },
     "metadata": {
      "needs_background": "light"
     },
     "output_type": "display_data"
    }
   ],
   "source": [
    "plt.hist(target_values_low, bins=50)\n",
    "plt.show()"
   ]
  },
  {
   "cell_type": "code",
   "execution_count": 91,
   "metadata": {},
   "outputs": [
    {
     "name": "stdout",
     "output_type": "stream",
     "text": [
      "0.035964536609908226\n"
     ]
    }
   ],
   "source": [
    "print(sum(target_values_low)/len(target_values_low))"
   ]
  },
  {
   "cell_type": "code",
   "execution_count": 92,
   "metadata": {},
   "outputs": [
    {
     "data": {
      "image/png": "[encoded data removed]",
      "text/plain": [
       "<Figure size 432x288 with 1 Axes>"
      ]
     },
     "metadata": {
      "needs_background": "light"
     },
     "output_type": "display_data"
    }
   ],
   "source": [
    "plt.hist(target_values_high, bins=50)\n",
    "plt.show()"
   ]
  },
  {
   "cell_type": "code",
   "execution_count": 69,
   "metadata": {},
   "outputs": [
    {
     "name": "stdout",
     "output_type": "stream",
     "text": [
      "0.9929818996131415\n"
     ]
    }
   ],
   "source": [
    "print(sum(target_values_high)/len(target_values_high))"
   ]
  },
  {
   "cell_type": "code",
   "execution_count": 70,
   "metadata": {},
   "outputs": [],
   "source": [
    "target_values_test = target_values[:dataset.training_set_length]"
   ]
  },
  {
   "cell_type": "code",
   "execution_count": 77,
   "metadata": {},
   "outputs": [
    {
     "ename": "AttributeError",
     "evalue": "'Dataset_Delay_Prediction_from_list' object has no attribute 'training_set_length'",
     "output_type": "error",
     "traceback": [
      "\u001b[0;31m---------------------------------------------------------------------------\u001b[0m",
      "\u001b[0;31mAttributeError\u001b[0m                            Traceback (most recent call last)",
      "\u001b[0;32m<ipython-input-77-34c8816d876d>\u001b[0m in \u001b[0;36m<module>\u001b[0;34m\u001b[0m\n\u001b[0;32m----> 1\u001b[0;31m \u001b[0maverage_train_value\u001b[0m \u001b[0;34m=\u001b[0m \u001b[0msum\u001b[0m\u001b[0;34m(\u001b[0m\u001b[0mtarget_values\u001b[0m\u001b[0;34m[\u001b[0m\u001b[0mdataset\u001b[0m\u001b[0;34m.\u001b[0m\u001b[0mtraining_set_length\u001b[0m\u001b[0;34m:\u001b[0m\u001b[0;34m]\u001b[0m\u001b[0;34m)\u001b[0m\u001b[0;34m/\u001b[0m\u001b[0mlen\u001b[0m\u001b[0;34m(\u001b[0m \u001b[0mtarget_values\u001b[0m\u001b[0;34m[\u001b[0m\u001b[0mdataset\u001b[0m\u001b[0;34m.\u001b[0m\u001b[0mtraining_set_length\u001b[0m\u001b[0;34m:\u001b[0m\u001b[0;34m]\u001b[0m\u001b[0;34m)\u001b[0m\u001b[0;34m\u001b[0m\u001b[0;34m\u001b[0m\u001b[0m\n\u001b[0m\u001b[1;32m      2\u001b[0m \u001b[0mpred\u001b[0m \u001b[0;34m=\u001b[0m \u001b[0;34m[\u001b[0m\u001b[0maverage_train_value\u001b[0m \u001b[0;32mfor\u001b[0m \u001b[0m_\u001b[0m \u001b[0;32min\u001b[0m \u001b[0mrange\u001b[0m\u001b[0;34m(\u001b[0m\u001b[0mdataset\u001b[0m\u001b[0;34m.\u001b[0m\u001b[0mtraining_set_length\u001b[0m\u001b[0;34m)\u001b[0m\u001b[0;34m]\u001b[0m\u001b[0;34m\u001b[0m\u001b[0;34m\u001b[0m\u001b[0m\n\u001b[1;32m      3\u001b[0m \u001b[0mmean_sum_of_squares\u001b[0m \u001b[0;34m=\u001b[0m \u001b[0msum\u001b[0m\u001b[0;34m(\u001b[0m\u001b[0;34m[\u001b[0m\u001b[0;34m(\u001b[0m\u001b[0mtarget_values_test\u001b[0m\u001b[0;34m[\u001b[0m\u001b[0mi\u001b[0m\u001b[0;34m]\u001b[0m \u001b[0;34m-\u001b[0m \u001b[0mpred\u001b[0m\u001b[0;34m[\u001b[0m\u001b[0mi\u001b[0m\u001b[0;34m]\u001b[0m\u001b[0;34m)\u001b[0m\u001b[0;34m**\u001b[0m\u001b[0;36m2\u001b[0m \u001b[0;32mfor\u001b[0m \u001b[0mi\u001b[0m \u001b[0;32min\u001b[0m \u001b[0mrange\u001b[0m\u001b[0;34m(\u001b[0m\u001b[0mdataset\u001b[0m\u001b[0;34m.\u001b[0m\u001b[0mtraining_set_length\u001b[0m\u001b[0;34m)\u001b[0m\u001b[0;34m]\u001b[0m\u001b[0;34m)\u001b[0m\u001b[0;34m/\u001b[0m\u001b[0mdataset\u001b[0m\u001b[0;34m.\u001b[0m\u001b[0mtraining_set_length\u001b[0m\u001b[0;34m\u001b[0m\u001b[0;34m\u001b[0m\u001b[0m\n\u001b[1;32m      4\u001b[0m \u001b[0mprint\u001b[0m\u001b[0;34m(\u001b[0m\u001b[0mmean_sum_of_squares\u001b[0m\u001b[0;34m)\u001b[0m\u001b[0;34m\u001b[0m\u001b[0;34m\u001b[0m\u001b[0m\n",
      "\u001b[0;31mAttributeError\u001b[0m: 'Dataset_Delay_Prediction_from_list' object has no attribute 'training_set_length'"
     ]
    }
   ],
   "source": [
    "average_train_value = sum(target_values[dataset.training_set_length:])/len( target_values[dataset.training_set_length:])\n",
    "pred = [average_train_value for _ in range(dataset.training_set_length)]\n",
    "mean_sum_of_squares = sum([(target_values_test[i] - pred[i])**2 for i in range(dataset.training_set_length)])/dataset.training_set_length\n",
    "print(mean_sum_of_squares)"
   ]
  },
  {
   "cell_type": "code",
   "execution_count": 78,
   "metadata": {},
   "outputs": [],
   "source": [
    "dataset_name = '2019-10_11_12-dataset_delay_prediction'\n",
    "\n",
    "#load the dataset\n",
    "pickle_filename = dataset_name.replace('/', '-')\n",
    "dataset = pickle.load(open(pickle_filename, 'rb'))"
   ]
  },
  {
   "cell_type": "code",
   "execution_count": 79,
   "metadata": {},
   "outputs": [
    {
     "name": "stdout",
     "output_type": "stream",
     "text": [
      "number of different_events : 60\n",
      "number of users:  5870\n",
      "average length:  17.359965928449743\n",
      "average_target_value:  0.26536911122372236\n"
     ]
    }
   ],
   "source": [
    "#some statistics about the dataset:\n",
    "number_of_different_events = dataset.number_of_events\n",
    "print('number of different_events :', str(number_of_different_events))\n",
    "number_of_sequences = dataset.number_of_users\n",
    "print('number of users: ', str(number_of_sequences))\n",
    "average_length_of_seq = sum(dataset.full_seqlen)/number_of_sequences\n",
    "print('average length: ', average_length_of_seq)\n",
    "target_values = [val[0] for val in dataset.full_values]\n",
    "print('average_target_value: ', sum(target_values)/number_of_sequences)"
   ]
  },
  {
   "cell_type": "code",
   "execution_count": 84,
   "metadata": {},
   "outputs": [
    {
     "data": {
      "image/png": "[encoded data removed]",
      "text/plain": [
       "<Figure size 432x288 with 1 Axes>"
      ]
     },
     "metadata": {
      "needs_background": "light"
     },
     "output_type": "display_data"
    }
   ],
   "source": [
    "plt.hist(target_values, bins=100)\n",
    "plt.show()"
   ]
  },
  {
   "cell_type": "code",
   "execution_count": 82,
   "metadata": {},
   "outputs": [
    {
     "name": "stdout",
     "output_type": "stream",
     "text": [
      "0.022714553452114705\n"
     ]
    }
   ],
   "source": [
    "training_set_length = int(1/5 * 5870)\n",
    "target_values_test = target_values[:training_set_length]\n",
    "average_train_value = sum(target_values[training_set_length:])/len( target_values[training_set_length:])\n",
    "pred = [average_train_value for _ in range(training_set_length)]\n",
    "mean_sum_of_squares = sum([(target_values_test[i] - pred[i])**2 for i in range(training_set_length)])/training_set_length\n",
    "print(mean_sum_of_squares)"
   ]
  },
  {
   "cell_type": "code",
   "execution_count": null,
   "metadata": {},
   "outputs": [],
   "source": []
  }
 ],
 "metadata": {
  "anaconda-cloud": {},
  "kernelspec": {
   "display_name": "tf-2.0",
   "language": "python",
   "name": "tf-2.0"
  },
  "language_info": {
   "codemirror_mode": {
    "name": "ipython",
    "version": 3
   },
   "file_extension": ".py",
   "mimetype": "text/x-python",
   "name": "python",
   "nbconvert_exporter": "python",
   "pygments_lexer": "ipython3",
   "version": "3.7.3"
  }
 },
 "nbformat": 4,
 "nbformat_minor": 2
}
