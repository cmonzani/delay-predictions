{
  "nbformat": 4,
  "nbformat_minor": 0,
  "metadata": {
    "colab": {
      "name": "exploratory_analysis.ipynb",
      "provenance": [],
      "authorship_tag": "ABX9TyOwJGjyjWsqPChBpQs3zGG2"
    },
    "kernelspec": {
      "name": "python3",
      "display_name": "Python 3"
    }
  },
  "cells": [
    {
      "cell_type": "code",
      "metadata": {
        "id": "OlpSK8lS2pvF"
      },
      "source": [
        "#import \n",
        "import pandas as pd\n",
        "import numpy as np\n",
        "import google.cloud.bigquery as bq\n",
        "import os\n",
        "import pickle\n",
        "import tensorflow as tf\n",
        "from tensorflow import keras\n",
        "import requests\n",
        "import math\n",
        "\n",
        "import pandas as pd\n",
        "\n",
        "import statsmodels.api as sm\n",
        "import statsmodels.tsa.api as smt\n",
        "\n",
        "from statsmodels.tsa.stattools import adfuller\n",
        "\n",
        "from sklearn.metrics import mean_squared_error\n",
        "from sklearn.model_selection import train_test_split\n",
        "from sklearn.preprocessing import StandardScaler\n",
        "import seaborn as sns\n",
        "from pylab import rcParams\n",
        "import matplotlib.pyplot as plt\n",
        "from matplotlib import rc\n",
        "from pandas.plotting import register_matplotlib_converters\n",
        "\n",
        "%matplotlib inline\n",
        "%config InlineBackend.figure_format='retina'\n",
        "\n",
        "register_matplotlib_converters()\n",
        "sns.set(style='whitegrid', palette='muted', font_scale=1.5)\n",
        "\n",
        "rcParams['figure.figsize'] = 22, 10"
      ],
      "execution_count": 16,
      "outputs": []
    },
    {
      "cell_type": "code",
      "metadata": {
        "id": "jq-NaKMH3DGQ"
      },
      "source": [
        "RANDOM_SEED = 42\n",
        "\n",
        "np.random.seed(RANDOM_SEED)\n",
        "tf.random.set_seed(RANDOM_SEED)"
      ],
      "execution_count": 4,
      "outputs": []
    },
    {
      "cell_type": "code",
      "metadata": {
        "id": "MbHcUAOS3K68"
      },
      "source": [
        "def create_dataset(X, y, time_steps=1):\n",
        "    Xs, ys = [], []\n",
        "    for i in range(len(X) - time_steps):\n",
        "        v = X.iloc[i:(i + time_steps)].values\n",
        "        Xs.append(v)        \n",
        "        ys.append(y.iloc[i + time_steps])\n",
        "    return np.array(Xs), np.array(ys)"
      ],
      "execution_count": 6,
      "outputs": []
    },
    {
      "cell_type": "code",
      "metadata": {
        "id": "Vn9ra8a33a-C"
      },
      "source": [
        "def add_datetime_columns(_df):\n",
        "    \n",
        "    return (\n",
        "        _df\n",
        "        .assign(\n",
        "            hour=lambda x: x.timestamp.dt.hour,\n",
        "            date=lambda x: pd.to_datetime(x.timestamp.dt.date)))"
      ],
      "execution_count": 7,
      "outputs": []
    },
    {
      "cell_type": "code",
      "metadata": {
        "id": "URtEogMM3czv"
      },
      "source": [
        "def agg_value_by_hour(_df):\n",
        "    return (\n",
        "        _df\n",
        "        .groupby(['date', 'hour'])\n",
        "        .agg({'value': 'sum'})\n",
        "        .reset_index()\n",
        "        .assign(day_of_week=lambda x: x.date.dt.dayofweek))"
      ],
      "execution_count": 8,
      "outputs": []
    },
    {
      "cell_type": "code",
      "metadata": {
        "id": "niol5njo3ePG"
      },
      "source": [
        "def concat_day_hour(x):\n",
        "    return(x.day_of_week.astype('str').str.cat(x.hour.astype('str'), sep='_'))\n",
        "\n",
        "def get_hourly_means_map(_df):\n",
        "    temp = (\n",
        "        _df\n",
        "        # Get mean at each hour for each day of week to capture\n",
        "        # hourly/daily trends \n",
        "        .groupby(['day_of_week', 'hour'])\n",
        "        .agg({'value': 'mean'})\n",
        "        .reset_index()\n",
        "        # Make a key for each day of week-hour combination\n",
        "        .assign(\n",
        "            key=lambda x: concat_day_hour(x),\n",
        "            value=lambda x: np.round(x.value, 3)\n",
        "        )\n",
        "        .filter(['key', 'value'])\n",
        "    )\n",
        "    mean_mapper = dict(zip(temp.key, temp.value))\n",
        "    return mean_mapper"
      ],
      "execution_count": 9,
      "outputs": []
    },
    {
      "cell_type": "code",
      "metadata": {
        "id": "nvHGCoIw3f_3"
      },
      "source": [
        "def center_data(_df, mean_map):\n",
        "    return (\n",
        "        _df\n",
        "        .assign(\n",
        "            mean_map_key=lambda x: concat_day_hour(x),\n",
        "            mean_val=lambda x: x.mean_map_key.map(mean_map),\n",
        "            centered_value=lambda x: x.value - x.mean_val,\n",
        "        )\n",
        "        .filter(['date', 'hour', 'centered_value']))"
      ],
      "execution_count": 10,
      "outputs": []
    },
    {
      "cell_type": "code",
      "metadata": {
        "id": "-DcOmz7r3hye"
      },
      "source": [
        "def data_pipeline(_df, is_train, _mean_map=None):\n",
        "    \"\"\"\n",
        "    if training then no mean_map is passed in, if testing then must pass in a mean map.\n",
        "    If training then will return both the transformed data and mean_map\n",
        "    \"\"\"\n",
        "    _df = add_datetime_columns(_df)\n",
        "    _df = agg_value_by_hour(_df)\n",
        "    # Log Transform to stabilize variance\n",
        "    _df = _df.assign(value=lambda x: np.log10(x['value']))\n",
        "    if is_train:\n",
        "        # make a map of means by hour and day of week \n",
        "        _mean_map = get_hourly_means_map(_df)\n",
        "        return center_data(_df, _mean_map), _mean_map\n",
        "    else:\n",
        "        if mean_map is None:\n",
        "            print('Must pass in a mean mapper with test set')\n",
        "        else:\n",
        "            return center_data(_df, _mean_map)"
      ],
      "execution_count": 11,
      "outputs": []
    },
    {
      "cell_type": "code",
      "metadata": {
        "id": "OSOeumSD3kQn"
      },
      "source": [
        "def load_taxi_data(filepath='nyc_taxi.csv', url='https://raw.githubusercontent.com/numenta/NAB/master/data/realKnownCause/nyc_taxi.csv'):\n",
        "    if ~os.path.exists(filepath):\n",
        "        r = requests.get(url, allow_redirects=True)\n",
        "        with open('nyc_taxi.csv', 'wb') as f:\n",
        "            f.write(r.content)\n",
        "    _df = (\n",
        "        pd.read_csv(filepath)\n",
        "        .assign(timestamp=lambda x: pd.to_datetime(x.timestamp))\n",
        "    )\n",
        "    \n",
        "    return _df"
      ],
      "execution_count": 20,
      "outputs": []
    },
    {
      "cell_type": "code",
      "metadata": {
        "id": "Y-TLRcEG3mSb"
      },
      "source": [
        "df = load_taxi_data()"
      ],
      "execution_count": 21,
      "outputs": []
    },
    {
      "cell_type": "code",
      "metadata": {
        "colab": {
          "base_uri": "https://localhost:8080/",
          "height": 297
        },
        "id": "7IwmL9TM4ZmX",
        "outputId": "490cf5dd-43d7-4597-f478-89092868a36c"
      },
      "source": [
        "df.describe()"
      ],
      "execution_count": 24,
      "outputs": [
        {
          "output_type": "execute_result",
          "data": {
            "text/html": [
              "<div>\n",
              "<style scoped>\n",
              "    .dataframe tbody tr th:only-of-type {\n",
              "        vertical-align: middle;\n",
              "    }\n",
              "\n",
              "    .dataframe tbody tr th {\n",
              "        vertical-align: top;\n",
              "    }\n",
              "\n",
              "    .dataframe thead th {\n",
              "        text-align: right;\n",
              "    }\n",
              "</style>\n",
              "<table border=\"1\" class=\"dataframe\">\n",
              "  <thead>\n",
              "    <tr style=\"text-align: right;\">\n",
              "      <th></th>\n",
              "      <th>value</th>\n",
              "    </tr>\n",
              "  </thead>\n",
              "  <tbody>\n",
              "    <tr>\n",
              "      <th>count</th>\n",
              "      <td>10320.000000</td>\n",
              "    </tr>\n",
              "    <tr>\n",
              "      <th>mean</th>\n",
              "      <td>15137.569380</td>\n",
              "    </tr>\n",
              "    <tr>\n",
              "      <th>std</th>\n",
              "      <td>6939.495808</td>\n",
              "    </tr>\n",
              "    <tr>\n",
              "      <th>min</th>\n",
              "      <td>8.000000</td>\n",
              "    </tr>\n",
              "    <tr>\n",
              "      <th>25%</th>\n",
              "      <td>10262.000000</td>\n",
              "    </tr>\n",
              "    <tr>\n",
              "      <th>50%</th>\n",
              "      <td>16778.000000</td>\n",
              "    </tr>\n",
              "    <tr>\n",
              "      <th>75%</th>\n",
              "      <td>19838.750000</td>\n",
              "    </tr>\n",
              "    <tr>\n",
              "      <th>max</th>\n",
              "      <td>39197.000000</td>\n",
              "    </tr>\n",
              "  </tbody>\n",
              "</table>\n",
              "</div>"
            ],
            "text/plain": [
              "              value\n",
              "count  10320.000000\n",
              "mean   15137.569380\n",
              "std     6939.495808\n",
              "min        8.000000\n",
              "25%    10262.000000\n",
              "50%    16778.000000\n",
              "75%    19838.750000\n",
              "max    39197.000000"
            ]
          },
          "metadata": {
            "tags": []
          },
          "execution_count": 24
        }
      ]
    },
    {
      "cell_type": "code",
      "metadata": {
        "id": "V21fu27_4ehh"
      },
      "source": [
        ""
      ],
      "execution_count": null,
      "outputs": []
    }
  ]
}