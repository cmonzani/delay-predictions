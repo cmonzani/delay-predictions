{
 "cells": [
  {
   "cell_type": "code",
   "execution_count": 6,
   "metadata": {},
   "outputs": [],
   "source": [
    "from time_lstm import T1TimeLSTM, T2TimeLSTM\n",
    "from dataset_delay_predictions import Dataset_Delay_Prediction, Dataset_Delay_Prediction_from_list, DatasetDelayPredictionStackOverflow\n",
    "from time_dependant_representation import TimeDepMasking, TimeDepJointEmbedding\n",
    "import numpy as np\n",
    "from tensorflow.keras import Sequential\n",
    "from tensorflow.keras.layers import Dense, Dropout, Masking, Layer, LSTM\n",
    "import os"
   ]
  },
  {
   "cell_type": "code",
   "execution_count": 7,
   "metadata": {},
   "outputs": [],
   "source": [
    "import tensorflow as tf"
   ]
  },
  {
   "cell_type": "code",
   "execution_count": 10,
   "metadata": {},
   "outputs": [],
   "source": [
    "import pickle"
   ]
  },
  {
   "cell_type": "code",
   "execution_count": 11,
   "metadata": {},
   "outputs": [],
   "source": [
    "dataset_names = [\n",
    "    '2019-10_11_12-dataset_delay_prediction',\n",
    "    'stack-overflow-dataset'\n",
    "]"
   ]
  },
  {
   "cell_type": "code",
   "execution_count": null,
   "metadata": {},
   "outputs": [
    {
     "name": "stdout",
     "output_type": "stream",
     "text": [
      "Reading pickle file...\n"
     ]
    }
   ],
   "source": [
    "dataset_name = dataset_names[0]\n",
    "pickle_filename = dataset_name.replace('/', '-')\n",
    "if os.path.exists(pickle_filename):\n",
    "    print('Reading pickle file...')\n",
    "    dataset = pickle.load(open(pickle_filename, 'rb'))"
   ]
  },
  {
   "cell_type": "code",
   "execution_count": 22,
   "metadata": {},
   "outputs": [
    {
     "name": "stdout",
     "output_type": "stream",
     "text": [
      "(5307, 1)\n"
     ]
    }
   ],
   "source": [
    "X_train = dataset.full_features_dt[dataset.training_set_length:]\n",
    "seqlen = dataset.full_seqlen[dataset.training_set_length:]\n",
    "y_train = np.array(dataset.full_values[dataset.training_set_length:])\n",
    "print(y_train.shape)"
   ]
  },
  {
   "cell_type": "code",
   "execution_count": null,
   "metadata": {},
   "outputs": [],
   "source": []
  },
  {
   "cell_type": "code",
   "execution_count": 23,
   "metadata": {},
   "outputs": [],
   "source": [
    "number_of_event = dataset.number_of_event\n",
    "X_train_bis = []\n",
    "number_of_event = len(X_train[0][0])\n",
    "for idx in range(len(X_train)):\n",
    "    seq = X_train[idx]\n",
    "    ts_list = [[a[-1]] for a in seq]\n",
    "    X_train_bis.append(ts_list)\n",
    "\n",
    "padding_value = 0.123456789\n",
    "padded_inputs = tf.keras.preprocessing.sequence.pad_sequences(X_train_bis,\n",
    "                                                              padding='post',\n",
    "                                                              value=padding_value,\n",
    "                                                              dtype='float32')"
   ]
  },
  {
   "cell_type": "code",
   "execution_count": 24,
   "metadata": {},
   "outputs": [
    {
     "name": "stdout",
     "output_type": "stream",
     "text": [
      "(5307, 735, 1)\n"
     ]
    }
   ],
   "source": [
    "print(padded_inputs.shape)\n",
    "lstm_units = 50"
   ]
  },
  {
   "cell_type": "code",
   "execution_count": 25,
   "metadata": {},
   "outputs": [],
   "source": [
    "regressor = Sequential()\n",
    "regressor.add(Masking(mask_value=padding_value))\n",
    "regressor.add(LSTM(units=lstm_units))\n",
    "regressor.add(Dense(units=y_train.shape[1], activation='sigmoid'))"
   ]
  },
  {
   "cell_type": "code",
   "execution_count": 26,
   "metadata": {},
   "outputs": [
    {
     "name": "stdout",
     "output_type": "stream",
     "text": [
      "Train on 5307 samples\n",
      "Epoch 1/5\n",
      "5307/5307 - 37s - loss: 0.2308\n",
      "Epoch 2/5\n",
      "5307/5307 - 29s - loss: 0.2299\n",
      "Epoch 3/5\n",
      "5307/5307 - 28s - loss: 0.2292\n",
      "Epoch 4/5\n",
      "5307/5307 - 28s - loss: 0.2291\n",
      "Epoch 5/5\n",
      "5307/5307 - 28s - loss: 0.2290\n"
     ]
    }
   ],
   "source": [
    "number_of_epochs = 5\n",
    "regressor.compile(optimizer='adam', loss='mean_squared_error')\n",
    "history = regressor.fit(padded_inputs, y_train, batch_size=50, epochs=number_of_epochs, verbose=2)"
   ]
  },
  {
   "cell_type": "code",
   "execution_count": 30,
   "metadata": {},
   "outputs": [],
   "source": [
    "X_test = dataset.full_features_dt[:dataset.training_set_length]\n",
    "seqlen_test = dataset.full_seqlen[:dataset.training_set_length]\n",
    "y_test = np.array(dataset.full_values[:dataset.training_set_length])\n",
    "X_test_bis = []\n",
    "number_of_event = len(X_train[0][0])\n",
    "for idx in range(dataset.training_set_length):\n",
    "    seq = X_test[idx]\n",
    "    ts_list = [[a[-1]] for a in seq]\n",
    "    X_test_bis.append(ts_list)\n"
   ]
  },
  {
   "cell_type": "code",
   "execution_count": 31,
   "metadata": {},
   "outputs": [],
   "source": [
    "padding_value = 0.123456789\n",
    "padded_inputs = tf.keras.preprocessing.sequence.pad_sequences(X_test_bis,\n",
    "                                                              padding='post',\n",
    "                                                              value=padding_value,\n",
    "                                                              dtype='float32')"
   ]
  },
  {
   "cell_type": "code",
   "execution_count": 32,
   "metadata": {},
   "outputs": [],
   "source": [
    "pred = regressor.predict(padded_inputs)"
   ]
  },
  {
   "cell_type": "code",
   "execution_count": 38,
   "metadata": {},
   "outputs": [],
   "source": [
    "mean_sum_of_squares = sum([(y_test[i] - pred[i])**2 for i in range(dataset.training_set_length)])/dataset.training_set_length"
   ]
  },
  {
   "cell_type": "code",
   "execution_count": 39,
   "metadata": {},
   "outputs": [
    {
     "name": "stdout",
     "output_type": "stream",
     "text": [
      "[0.22825082]\n"
     ]
    }
   ],
   "source": [
    "print(mean_sum_of_squares)"
   ]
  },
  {
   "cell_type": "code",
   "execution_count": null,
   "metadata": {},
   "outputs": [],
   "source": []
  }
 ],
 "metadata": {
  "kernelspec": {
   "display_name": "tf-2.0",
   "language": "python",
   "name": "tf-2.0"
  },
  "language_info": {
   "codemirror_mode": {
    "name": "ipython",
    "version": 3
   },
   "file_extension": ".py",
   "mimetype": "text/x-python",
   "name": "python",
   "nbconvert_exporter": "python",
   "pygments_lexer": "ipython3",
   "version": "3.7.3"
  }
 },
 "nbformat": 4,
 "nbformat_minor": 2
}
