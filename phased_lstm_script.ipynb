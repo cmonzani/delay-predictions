{
 "cells": [
  {
   "cell_type": "code",
   "execution_count": 1,
   "metadata": {},
   "outputs": [
    {
     "name": "stdout",
     "output_type": "stream",
     "text": [
      "1.9.0\n"
     ]
    }
   ],
   "source": [
    "import argparse\n",
    "from time import time\n",
    "\n",
    "import numpy as np\n",
    "import tensorflow as tf\n",
    "from tensorflow.contrib.rnn import BasicLSTMCell\n",
    "from tensorflow.contrib.rnn.python.ops.rnn_cell import PhasedLSTMCell\n",
    "from tensorflow.examples.tutorials.mnist import input_data\n",
    "from tensorflow.python.ops.rnn import dynamic_rnn\n",
    "print(tf.__version__)"
   ]
  },
  {
   "cell_type": "code",
   "execution_count": 2,
   "metadata": {},
   "outputs": [],
   "source": [
    "import os\n",
    "import gzip\n",
    "import io\n",
    "import json\n",
    "import pprint\n",
    "import datetime\n",
    "import math\n",
    "import pickle"
   ]
  },
  {
   "cell_type": "code",
   "execution_count": 3,
   "metadata": {},
   "outputs": [],
   "source": [
    "from dataset_delay_predictions import Dataset_Delay_Prediction, Dataset_Delay_Prediction_from_list, DatasetDelayPredictionStackOverflow"
   ]
  },
  {
   "cell_type": "code",
   "execution_count": 4,
   "metadata": {},
   "outputs": [],
   "source": [
    "num_classes = 1\n",
    "batch_size = 64\n"
   ]
  },
  {
   "cell_type": "code",
   "execution_count": 5,
   "metadata": {},
   "outputs": [
    {
     "name": "stdout",
     "output_type": "stream",
     "text": [
      "Reading pickle file...\n"
     ]
    }
   ],
   "source": [
    "dataset_name = 'stack-overflow-dataset'\n",
    "dataset_name = '2019-11-01-hellobank-only-converted-14-days'\n",
    "dataset_name = '2019-10_11_12-dataset_delay_prediction'\n",
    "pickle_filename = dataset_name.replace('/', '-')\n",
    "print('Reading pickle file...')\n",
    "dataset = pickle.load(open(pickle_filename, 'rb'))\n"
   ]
  },
  {
   "cell_type": "code",
   "execution_count": 14,
   "metadata": {
    "scrolled": true
   },
   "outputs": [
    {
     "name": "stdout",
     "output_type": "stream",
     "text": [
      "<dataset_delay_predictions.DatasetDelayPredictionStackOverflow object at 0x7f3e84d742e8>\n",
      "22\n"
     ]
    }
   ],
   "source": [
    "print(dataset)\n",
    "number_of_dimensions = dataset.number_of_event\n",
    "print(number_of_dimensions)"
   ]
  },
  {
   "cell_type": "code",
   "execution_count": 31,
   "metadata": {},
   "outputs": [
    {
     "name": "stdout",
     "output_type": "stream",
     "text": [
      "steps = 000000 | time 0.54 | tr_loss = 0.000 | tr_acc = 1.000\n",
      "steps = 000010 | time 0.62 | tr_loss = 0.000 | tr_acc = 1.000\n",
      "steps = 000020 | time 0.31 | tr_loss = 0.000 | tr_acc = 1.000\n"
     ]
    }
   ],
   "source": [
    "tf.reset_default_graph()\n",
    "hidden_size = 100\n",
    "\n",
    "steps = 21\n",
    "lstm_cell=PhasedLSTMCell\n",
    "\n",
    "learning_rate = 0.001\n",
    "x_ = tf.placeholder(tf.float32, (batch_size, None, number_of_dimensions), name='x_')\n",
    "t_ = tf.placeholder(tf.float32, (batch_size, None, 1), name='t_')\n",
    "y_ = tf.placeholder(tf.float32, [batch_size, 1], name='y_')\n",
    "seqlen_ = tf.placeholder(tf.int32, [batch_size], name='seqlen_')\n",
    "\n",
    "inputs = (t_, x_)\n",
    "\n",
    "outputs, _ = dynamic_rnn(cell=PhasedLSTMCell(hidden_size), \n",
    "                         inputs=inputs, \n",
    "                         dtype=tf.float32, \n",
    "                         sequence_length=seqlen_)\n",
    "\n",
    "rnn_out = tf.squeeze(outputs[:, -1, :])\n",
    "y = tf.contrib.layers.fully_connected(inputs=rnn_out,\n",
    "                        num_outputs=num_classes)\n",
    "\n",
    "#cross_entropy = tf.reduce_mean(tf.nn.softmax_cross_entropy_with_logits(logits=y, labels=y_))\n",
    "loss = tf.reduce_mean(tf.squared_difference(y,y_))\n",
    "grad_update = tf.train.AdamOptimizer(learning_rate).minimize(loss)\n",
    "correct_prediction = tf.equal(tf.argmax(y_,1), tf.argmax(y, 1))\n",
    "accuracy = tf.reduce_mean(tf.cast(correct_prediction, tf.float32))\n",
    "\n",
    "sess = tf.Session(config=tf.ConfigProto(log_device_placement=False))\n",
    "sess.run(tf.global_variables_initializer())\n",
    "\n",
    "def feed_dict_phased_lstm():\n",
    "    x,t,seqlen,y = dataset.next_for_separated_timestamps_and_events()\n",
    "    return {x_: x, y_: y, t_:t, seqlen_:seqlen}\n",
    "\n",
    "losses = []\n",
    "print_step = 10\n",
    "for i in range(steps):\n",
    "    st = time()\n",
    "    feed_dict = feed_dict_phased_lstm()\n",
    "    \n",
    "    tr_loss, tr_acc, _ = sess.run([loss, accuracy, grad_update], feed_dict=feed_dict)\n",
    "    losses.append(tr_loss)\n",
    "    if i % print_step == 0:\n",
    "        print('steps = {0} | time {1:.2f} | tr_loss = {2:.3f} | tr_acc = {3:.3f}'.format(str(i).zfill(6),\n",
    "                                                                                         time() - st,\n",
    "                                                                                         tr_loss,\n",
    "                                                                                         tr_acc))   "
   ]
  },
  {
   "cell_type": "code",
   "execution_count": 32,
   "metadata": {},
   "outputs": [
    {
     "data": {
      "image/png": "[encoded data removed]",
      "text/plain": [
       "<Figure size 432x288 with 1 Axes>"
      ]
     },
     "metadata": {
      "needs_background": "light"
     },
     "output_type": "display_data"
    }
   ],
   "source": [
    "from matplotlib import pyplot as plt\n",
    "x = [i for i in range(len(losses))]\n",
    "plt.plot(x,losses)\n",
    "plt.show()"
   ]
  },
  {
   "cell_type": "code",
   "execution_count": 15,
   "metadata": {},
   "outputs": [],
   "source": [
    "feed_dict = feed_dict_phased_lstm()"
   ]
  },
  {
   "cell_type": "code",
   "execution_count": 7,
   "metadata": {},
   "outputs": [],
   "source": [
    "x,t,seqlen,y = dataset.next_for_separated_timestamps_and_events()"
   ]
  },
  {
   "cell_type": "code",
   "execution_count": 8,
   "metadata": {},
   "outputs": [
    {
     "name": "stdout",
     "output_type": "stream",
     "text": [
      "17\n"
     ]
    }
   ],
   "source": [
    "print(seqlen[0])"
   ]
  },
  {
   "cell_type": "code",
   "execution_count": 25,
   "metadata": {},
   "outputs": [
    {
     "name": "stdout",
     "output_type": "stream",
     "text": [
      "Reading pickle file...\n"
     ]
    }
   ],
   "source": [
    "\n",
    "dataset_name = '2019-11-01-hellobank-only-converted-14-days'\n",
    "dataset_name = '2019-10_11_12-dataset_delay_prediction'\n",
    "dataset_name = 'stack-overflow-dataset'\n",
    "pickle_filename = dataset_name.replace('/', '-')\n",
    "print('Reading pickle file...')\n",
    "dataset = pickle.load(open(pickle_filename, 'rb'))"
   ]
  },
  {
   "cell_type": "code",
   "execution_count": 26,
   "metadata": {},
   "outputs": [],
   "source": [
    "x,t,seqlen,y = dataset.next_for_separated_timestamps_and_events()"
   ]
  },
  {
   "cell_type": "code",
   "execution_count": 27,
   "metadata": {},
   "outputs": [
    {
     "data": {
      "text/plain": [
       "101"
      ]
     },
     "execution_count": 27,
     "metadata": {},
     "output_type": "execute_result"
    }
   ],
   "source": [
    "seqlen[0]"
   ]
  },
  {
   "cell_type": "code",
   "execution_count": 28,
   "metadata": {},
   "outputs": [
    {
     "name": "stdout",
     "output_type": "stream",
     "text": [
      "<dataset_delay_predictions.DatasetDelayPredictionStackOverflow object at 0x7f3e80186e80>\n"
     ]
    }
   ],
   "source": [
    "print(dataset)"
   ]
  },
  {
   "cell_type": "code",
   "execution_count": 29,
   "metadata": {},
   "outputs": [],
   "source": [
    "full_features = dataset.full_features_dt\n",
    "full_features_log = dataset.full_features_log"
   ]
  },
  {
   "cell_type": "code",
   "execution_count": 30,
   "metadata": {},
   "outputs": [
    {
     "name": "stdout",
     "output_type": "stream",
     "text": [
      "27834026.293000937\n",
      "0.03422086552072164\n",
      "1357904246.5679991\n",
      "0.9926536124473108\n",
      "1364123099.4950004\n",
      "0.9955319931297468\n",
      "28355543.438999414\n",
      "0.034851005351431055\n",
      "1365386640.0880008\n",
      "0.9961158084421115\n",
      "1353601835.349\n",
      "0.990657392244463\n",
      "1360952568.7100005\n",
      "0.9940655560582332\n",
      "1359420997.943\n",
      "0.993356401369638\n",
      "28227134.206999063\n",
      "0.0346958876194745\n",
      "32317484.027000427\n",
      "0.03962522452245139\n"
     ]
    }
   ],
   "source": [
    "for i in range(10):\n",
    "    print(full_features[i][-1][-1])\n",
    "    print(full_features_log[i][-1][-1])"
   ]
  },
  {
   "cell_type": "code",
   "execution_count": null,
   "metadata": {},
   "outputs": [],
   "source": []
  }
 ],
 "metadata": {
  "kernelspec": {
   "display_name": "tf-1.9",
   "language": "python",
   "name": "tf-1.9"
  },
  "language_info": {
   "codemirror_mode": {
    "name": "ipython",
    "version": 3
   },
   "file_extension": ".py",
   "mimetype": "text/x-python",
   "name": "python",
   "nbconvert_exporter": "python",
   "pygments_lexer": "ipython3",
   "version": "3.6.7"
  }
 },
 "nbformat": 4,
 "nbformat_minor": 2
}
